{
 "cells": [
  {
   "cell_type": "code",
   "execution_count": 106,
   "metadata": {},
   "outputs": [],
   "source": [
    "import requests\n",
    "import re\n",
    "from bs4 import BeautifulSoup\n",
    "import pandas as pd\n",
    "import numpy as np\n",
    "import matplotlib.pyplot as plt"
   ]
  },
  {
   "cell_type": "code",
   "execution_count": 60,
   "metadata": {},
   "outputs": [],
   "source": [
    "url = 'https://rocketjobs.pl/widelki_tak'\n",
    "page = requests.get(url)\n",
    "soup = BeautifulSoup(page.content, 'html5lib')\n",
    "\n",
    "url = \"https://rocketjobs.pl/wszystkie-lokalizacje/{typ}/{doswiadczenie}/widelki_tak\";\n",
    "\n",
    "typ= {\"marketing\", \"sales\",\"finanse\",\"inzynieria\",\"design\",\"hr\" }\n",
    "doswiadczenie = {\"doswiadczenie_staz-junior\", \"doswiadczenie_specjalista-mid\", \"doswiadczenie_starszy-specjalista-senior\", \"doswiadczenie_manager-c-level\"}"
   ]
  },
  {
   "cell_type": "code",
   "execution_count": 98,
   "metadata": {},
   "outputs": [],
   "source": [
    "def price_range_to_integers(price):\n",
    "    return int(price.replace(\" \",\"\"))\n",
    "\n",
    "dictionary = {}\n",
    "\n",
    "for typPracy in typ:\n",
    "    for dosw in doswiadczenie:\n",
    "        page = requests.get((\"https://rocketjobs.pl/wszystkie-lokalizacje/{}/{}/widelki_tak\").format(typPracy,dosw))\n",
    "        soup = BeautifulSoup(page.content, 'html5lib')\n",
    "        offers = soup.find_all(class_='MuiBox-root css-6vg4fr')\n",
    "        job_offers.clear()\n",
    "        for offer in offers:\n",
    "            job_name = offer.find('h2', class_='css-g9dzcj').get_text()\n",
    "            price_range = re.findall(r'\\d+\\s\\d+', offer.find(class_='css-lz8wxo').get_text())\n",
    "            price_low = price_range_to_integers(price_range[0])\n",
    "            try:\n",
    "                price_up = price_range_to_integers(price_range[1])\n",
    "            except IndexError:\n",
    "                price_up =  0\n",
    "            job_offers.append({'jobName': job_name, 'price_low':price_low,'price_high':price_up})\n",
    "            key = typPracy +\"/\"+ dosw\n",
    "            value = pd.DataFrame(job_offers)\n",
    "            dictionary[key] = value "
   ]
  },
  {
   "cell_type": "code",
   "execution_count": 165,
   "metadata": {},
   "outputs": [
    {
     "name": "stdout",
     "output_type": "stream",
     "text": [
      "doswiadczenie_starszy-specjalista-senior\n",
      "doswiadczenie_specjalista-mid\n",
      "doswiadczenie_manager-c-level\n",
      "doswiadczenie_staz-junior\n",
      "doswiadczenie_starszy-specjalista-senior\n",
      "doswiadczenie_specjalista-mid\n",
      "doswiadczenie_manager-c-level\n",
      "doswiadczenie_staz-junior\n",
      "doswiadczenie_starszy-specjalista-senior\n",
      "doswiadczenie_specjalista-mid\n",
      "doswiadczenie_manager-c-level\n",
      "doswiadczenie_staz-junior\n",
      "doswiadczenie_starszy-specjalista-senior\n",
      "doswiadczenie_specjalista-mid\n",
      "doswiadczenie_manager-c-level\n",
      "doswiadczenie_staz-junior\n",
      "doswiadczenie_starszy-specjalista-senior\n",
      "doswiadczenie_specjalista-mid\n",
      "doswiadczenie_manager-c-level\n",
      "doswiadczenie_staz-junior\n",
      "doswiadczenie_starszy-specjalista-senior\n",
      "doswiadczenie_specjalista-mid\n",
      "doswiadczenie_manager-c-level\n",
      "doswiadczenie_staz-junior\n",
      "doswiadczenie_starszy-specjalista-senior\n",
      "doswiadczenie_specjalista-mid\n",
      "doswiadczenie_manager-c-level\n",
      "doswiadczenie_staz-junior\n",
      "doswiadczenie_starszy-specjalista-senior\n",
      "doswiadczenie_specjalista-mid\n",
      "doswiadczenie_manager-c-level\n",
      "doswiadczenie_staz-junior\n",
      "doswiadczenie_starszy-specjalista-senior\n",
      "doswiadczenie_specjalista-mid\n",
      "doswiadczenie_manager-c-level\n",
      "doswiadczenie_staz-junior\n",
      "doswiadczenie_starszy-specjalista-senior\n",
      "doswiadczenie_specjalista-mid\n",
      "doswiadczenie_manager-c-level\n",
      "doswiadczenie_staz-junior\n",
      "doswiadczenie_starszy-specjalista-senior\n",
      "doswiadczenie_specjalista-mid\n",
      "doswiadczenie_manager-c-level\n",
      "doswiadczenie_staz-junior\n",
      "doswiadczenie_starszy-specjalista-senior\n",
      "doswiadczenie_specjalista-mid\n",
      "doswiadczenie_manager-c-level\n",
      "doswiadczenie_staz-junior\n",
      "doswiadczenie_starszy-specjalista-senior\n",
      "doswiadczenie_specjalista-mid\n",
      "doswiadczenie_manager-c-level\n",
      "doswiadczenie_staz-junior\n",
      "doswiadczenie_starszy-specjalista-senior\n",
      "doswiadczenie_specjalista-mid\n",
      "doswiadczenie_manager-c-level\n",
      "doswiadczenie_staz-junior\n",
      "doswiadczenie_starszy-specjalista-senior\n",
      "doswiadczenie_specjalista-mid\n",
      "doswiadczenie_manager-c-level\n",
      "doswiadczenie_staz-junior\n",
      "doswiadczenie_starszy-specjalista-senior\n",
      "doswiadczenie_specjalista-mid\n",
      "doswiadczenie_manager-c-level\n",
      "doswiadczenie_staz-junior\n",
      "doswiadczenie_starszy-specjalista-senior\n",
      "doswiadczenie_specjalista-mid\n",
      "doswiadczenie_manager-c-level\n",
      "doswiadczenie_staz-junior\n",
      "doswiadczenie_starszy-specjalista-senior\n",
      "doswiadczenie_specjalista-mid\n",
      "doswiadczenie_manager-c-level\n",
      "doswiadczenie_staz-junior\n",
      "doswiadczenie_starszy-specjalista-senior\n",
      "doswiadczenie_specjalista-mid\n",
      "doswiadczenie_manager-c-level\n",
      "doswiadczenie_staz-junior\n",
      "doswiadczenie_starszy-specjalista-senior\n",
      "doswiadczenie_specjalista-mid\n",
      "doswiadczenie_manager-c-level\n",
      "doswiadczenie_staz-junior\n",
      "doswiadczenie_starszy-specjalista-senior\n",
      "doswiadczenie_specjalista-mid\n",
      "doswiadczenie_manager-c-level\n",
      "doswiadczenie_staz-junior\n",
      "doswiadczenie_starszy-specjalista-senior\n",
      "doswiadczenie_specjalista-mid\n",
      "doswiadczenie_manager-c-level\n",
      "doswiadczenie_staz-junior\n",
      "doswiadczenie_starszy-specjalista-senior\n",
      "doswiadczenie_specjalista-mid\n",
      "doswiadczenie_manager-c-level\n",
      "doswiadczenie_staz-junior\n",
      "[10800.0, 7250.0, 9200.0, 5133.333333333333]\n"
     ]
    }
   ],
   "source": [
    "priceFinanse = []\n",
    "\n",
    "for item in dictionary.keys():\n",
    "    for dosw in doswiadczenie:\n",
    "        print(dosw)\n",
    "        if (item.split(\"/\")[0] == \"finanse\" and item.split(\"/\")[1] == dosw):\n",
    "            priceFinanse.append(dictionary[item][\"price_low\"].mean())\n",
    "print(priceFinanse)"
   ]
  },
  {
   "cell_type": "code",
   "execution_count": 166,
   "metadata": {},
   "outputs": [
    {
     "data": {
      "image/png": "[encoded data removed]",
      "text/plain": [
       "<Figure size 432x288 with 1 Axes>"
      ]
     },
     "metadata": {
      "needs_background": "light"
     },
     "output_type": "display_data"
    }
   ],
   "source": [
    "fig, ax = plt.subplots()\n",
    "\n",
    "fruits = ['Senior', 'Mid', 'Expert', 'Junior']\n",
    "counts = priceFinanse\n",
    "\n",
    "ax.bar(fruits, counts, label=bar_labels, color=bar_colors)\n",
    "\n",
    "ax.set_ylabel('fruit supply')\n",
    "ax.set_title('Fruit supply by kind and color')\n",
    "ax.legend(title='Fruit color')\n",
    "\n",
    "plt.show()"
   ]
  }
 ],
 "metadata": {
  "kernelspec": {
   "display_name": "base",
   "language": "python",
   "name": "python3"
  },
  "language_info": {
   "codemirror_mode": {
    "name": "ipython",
    "version": 3
   },
   "file_extension": ".py",
   "mimetype": "text/x-python",
   "name": "python",
   "nbconvert_exporter": "python",
   "pygments_lexer": "ipython3",
   "version": "3.9.12"
  },
  "orig_nbformat": 4,
  "vscode": {
   "interpreter": {
    "hash": "6e78471b80d0d7ee38330e2043b920f8d4f1f98c0c45e981251ca0c1b90eb389"
   }
  }
 },
 "nbformat": 4,
 "nbformat_minor": 2
}
